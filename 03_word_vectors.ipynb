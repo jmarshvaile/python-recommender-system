{
 "cells": [
  {
   "cell_type": "code",
   "execution_count": 98,
   "metadata": {},
   "outputs": [
    {
     "name": "stderr",
     "output_type": "stream",
     "text": [
      "[nltk_data] Downloading package punkt to\n",
      "[nltk_data]     C:\\Users\\jmars\\AppData\\Roaming\\nltk_data...\n",
      "[nltk_data]   Package punkt is already up-to-date!\n",
      "[nltk_data] Downloading package stopwords to\n",
      "[nltk_data]     C:\\Users\\jmars\\AppData\\Roaming\\nltk_data...\n",
      "[nltk_data]   Unzipping corpora\\stopwords.zip.\n"
     ]
    },
    {
     "data": {
      "text/plain": [
       "True"
      ]
     },
     "execution_count": 98,
     "metadata": {},
     "output_type": "execute_result"
    }
   ],
   "source": [
    "import json\n",
    "import nltk\n",
    "import re\n",
    "from collections import Counter\n",
    "\n",
    "nltk.download(['punkt', 'stopwords'])"
   ]
  },
  {
   "cell_type": "code",
   "execution_count": 2,
   "metadata": {},
   "outputs": [],
   "source": [
    "filename = 'data/processed_reviews.json'\n",
    "with open(filename, 'rb') as file:\n",
    "    reviews = json.load(file)"
   ]
  },
  {
   "cell_type": "code",
   "execution_count": 118,
   "metadata": {},
   "outputs": [],
   "source": [
    "filename = 'data/processed_games.json'\n",
    "with open(filename, 'rb') as file:\n",
    "    games = json.load(file)"
   ]
  },
  {
   "cell_type": "code",
   "execution_count": 76,
   "metadata": {},
   "outputs": [
    {
     "name": "stdout",
     "output_type": "stream",
     "text": [
      "21.5 ms ± 969 µs per loop (mean ± std. dev. of 7 runs, 100 loops each)\n"
     ]
    }
   ],
   "source": [
    "# %%timeit\n",
    "# for review in reviews[:10]:    \n",
    "#     corpus = nltk.sent_tokenize(review['text'])\n",
    "    \n",
    "#     corpus = [sentence.lower() for sentence in corpus]\n",
    "#     corpus = [re.sub(r'\\W', ' ', sentence) for sentence in corpus]\n",
    "#     corpus = [re.sub(r'\\s+', ' ', sentence) for sentence in corpus]\n",
    "    \n",
    "#     wordcount = {}\n",
    "#     for sentence in corpus:\n",
    "#         words = nltk.word_tokenize(sentence)\n",
    "#         for word in words:\n",
    "#             if word not in wordcount.keys():\n",
    "#                 wordcount[word] = 1\n",
    "#             else:\n",
    "#                 wordcount[word] += 1"
   ]
  },
  {
   "cell_type": "code",
   "execution_count": 77,
   "metadata": {},
   "outputs": [
    {
     "name": "stdout",
     "output_type": "stream",
     "text": [
      "20.7 ms ± 1.37 ms per loop (mean ± std. dev. of 7 runs, 100 loops each)\n"
     ]
    }
   ],
   "source": [
    "# %%timeit\n",
    "# for review in reviews[:10]:    \n",
    "#     corpus = nltk.sent_tokenize(review['text'])\n",
    "    \n",
    "#     words = []\n",
    "#     for sentence in corpus:\n",
    "#         sentence = sentence.lower()\n",
    "#         sentence = re.sub(r'\\W', ' ', sentence)\n",
    "#         sentence = re.sub(r'\\s+', ' ', sentence)\n",
    "#         words += nltk.word_tokenize(sentence)\n",
    "        \n",
    "#     wordcount = Counter(words)"
   ]
  },
  {
   "cell_type": "code",
   "execution_count": null,
   "metadata": {},
   "outputs": [],
   "source": [
    "# Goals:\n",
    "# Overall word freq\n",
    "#     Generic set for removing words that do not guide towards a genre.\n",
    "# Genre-level word freq\n",
    "#     Can be used to adjust the overall word freq.\n",
    "# Game-level word freq\n",
    "#     Does this have a use?"
   ]
  },
  {
   "cell_type": "code",
   "execution_count": 135,
   "metadata": {},
   "outputs": [],
   "source": [
    "wordcount = {}\n",
    "stopwords = nltk.corpus.stopwords.words('english')\n",
    "game_ids = list({game['id'] for game in games})"
   ]
  },
  {
   "cell_type": "code",
   "execution_count": 136,
   "metadata": {},
   "outputs": [
    {
     "name": "stdout",
     "output_type": "stream",
     "text": [
      "27.3 s ± 2 s per loop (mean ± std. dev. of 7 runs, 1 loop each)\n"
     ]
    }
   ],
   "source": [
    "for game_id in game_ids[:50]:\n",
    "    for review in reviews:\n",
    "        if review['product_id'] == game_id:\n",
    "            corpus = nltk.sent_tokenize(review['text'])\n",
    "            \n",
    "            for sentence in corpus:\n",
    "                sentence = sentence.lower()\n",
    "                sentence = re.sub(r'\\W', ' ', sentence)\n",
    "                sentence = re.sub(r'\\s+', ' ', sentence)\n",
    "\n",
    "                words = nltk.word_tokenize(sentence)\n",
    "                for word in words:\n",
    "                    if word not in stopwords:\n",
    "                        if word not in wordcount.keys():\n",
    "                            wordcount[word] = 1\n",
    "                        else:\n",
    "                            wordcount[word] += 1"
   ]
  },
  {
   "cell_type": "code",
   "execution_count": 134,
   "metadata": {},
   "outputs": [
    {
     "name": "stdout",
     "output_type": "stream",
     "text": [
      "game 24198 \n",
      "\n",
      "like 6208 \n",
      "\n",
      "get 4474 \n",
      "\n",
      "puzzles 4418 \n",
      "\n",
      "one 4028 \n",
      "\n",
      "really 3722 \n",
      "\n",
      "good 3468 \n",
      "\n",
      "time 3400 \n",
      "\n",
      "games 3361 \n",
      "\n",
      "story 3144 \n",
      "\n",
      "play 3124 \n",
      "\n",
      "puzzle 2905 \n",
      "\n",
      "even 2861 \n",
      "\n",
      "fun 2561 \n",
      "\n",
      "great 2470 \n",
      "\n",
      "much 2451 \n",
      "\n",
      "well 2377 \n",
      "\n",
      "also 2364 \n",
      "\n",
      "would 2313 \n",
      "\n",
      "10 2201 \n",
      "\n",
      "buy 1936 \n",
      "\n",
      "make 1911 \n",
      "\n",
      "portal 1879 \n",
      "\n",
      "first 1829 \n",
      "\n",
      "way 1760 \n",
      "\n",
      "world 1755 \n",
      "\n",
      "want 1738 \n",
      "\n",
      "played 1656 \n",
      "\n",
      "lot 1652 \n",
      "\n",
      "level 1644 \n",
      "\n",
      "hours 1633 \n",
      "\n",
      "think 1630 \n",
      "\n",
      "still 1585 \n",
      "\n",
      "many 1542 \n",
      "\n",
      "best 1505 \n",
      "\n",
      "graphics 1439 \n",
      "\n",
      "gameplay 1431 \n",
      "\n",
      "playing 1431 \n",
      "\n",
      "feel 1429 \n",
      "\n",
      "things 1425 \n",
      "\n",
      "2 1408 \n",
      "\n",
      "people 1394 \n",
      "\n",
      "go 1370 \n",
      "\n",
      "pretty 1338 \n",
      "\n",
      "every 1325 \n",
      "\n",
      "find 1307 \n",
      "\n",
      "new 1296 \n",
      "\n",
      "need 1264 \n",
      "\n",
      "around 1258 \n",
      "\n",
      "better 1249 \n",
      "\n",
      "recommend 1247 \n",
      "\n",
      "worth 1233 \n",
      "\n",
      "could 1215 \n",
      "\n",
      "little 1210 \n",
      "\n",
      "see 1186 \n",
      "\n",
      "say 1175 \n",
      "\n",
      "bit 1174 \n",
      "\n",
      "different 1172 \n",
      "\n",
      "something 1164 \n",
      "\n",
      "though 1164 \n",
      "\n",
      "talos 1103 \n",
      "\n",
      "got 1092 \n",
      "\n",
      "end 1078 \n",
      "\n",
      "thing 1040 \n",
      "\n",
      "makes 1038 \n",
      "\n",
      "hard 1032 \n",
      "\n",
      "going 1017 \n",
      "\n",
      "know 1016 \n",
      "\n",
      "bad 1016 \n",
      "\n",
      "5 1016 \n",
      "\n",
      "love 1011 \n",
      "\n",
      "interesting 1011 \n",
      "\n",
      "back 1003 \n",
      "\n",
      "ever 998 \n",
      "\n",
      "enough 997 \n",
      "\n",
      "never 992 \n",
      "\n",
      "principle 984 \n",
      "\n",
      "take 981 \n",
      "\n",
      "long 964 \n",
      "\n",
      "everything 961 \n",
      "\n",
      "player 960 \n",
      "\n",
      "made 957 \n",
      "\n",
      "system 957 \n",
      "\n",
      "nice 956 \n",
      "\n",
      "3 947 \n",
      "\n",
      "1 944 \n",
      "\n",
      "without 940 \n",
      "\n",
      "actually 926 \n",
      "\n",
      "experience 917 \n",
      "\n",
      "look 916 \n",
      "\n",
      "money 914 \n",
      "\n",
      "give 906 \n",
      "\n",
      "use 893 \n",
      "\n",
      "quite 888 \n",
      "\n",
      "levels 882 \n",
      "\n",
      "far 881 \n",
      "\n",
      "amazing 864 \n",
      "\n",
      "character 862 \n",
      "\n",
      "easy 861 \n",
      "\n",
      "players 860 \n",
      "\n"
     ]
    }
   ],
   "source": [
    "common_words = sorted(wordcount, key=wordcount.get, reverse=True)\n",
    "\n",
    "for word in common_words[:100]:\n",
    "    print(word, wordcount[word], '\\n')"
   ]
  },
  {
   "cell_type": "code",
   "execution_count": 111,
   "metadata": {},
   "outputs": [
    {
     "data": {
      "text/plain": [
       "{'username': 'Mercury',\n",
       " 'text': 'First day; hated it impossible bye bye uninstall \"never again\" steam category in my library sugga.\\nBoom week later i did it hehehjehhehehgipeslhfgvseikhnvglisubfhngol8;iahse vgoihusdvnovglbausedhjmfpavoliwsejr\\'dfjawc;opis;f0pga8zbuoyng;ehoa8rivf\\n10/10 i like achievement yummy',\n",
       " 'hours': 0.4,\n",
       " 'date': '2017-07-16',\n",
       " 'early_access': False,\n",
       " 'found_funny': 1,\n",
       " 'product_id': '671270',\n",
       " 'page_order': 2,\n",
       " 'products': 239,\n",
       " 'page': 1}"
      ]
     },
     "execution_count": 111,
     "metadata": {},
     "output_type": "execute_result"
    }
   ],
   "source": [
    "reviews[9]"
   ]
  },
  {
   "cell_type": "code",
   "execution_count": 117,
   "metadata": {},
   "outputs": [
    {
     "name": "stdout",
     "output_type": "stream",
     "text": [
      "{'publisher': 'Problematicar', 'genres': ['Casual', 'Indie'], 'app_name': 'Stophat', 'sentiment': 'Mostly Positive', 'title': 'Stophat', 'url': 'http://store.steampowered.com/app/671270/Stophat/', 'release_date': '2017-07-04', 'tags': ['Indie', 'Casual'], 'reviews_url': 'http://steamcommunity.com/app/671270/reviews/?browsefilter=mostrecent&p=1', 'specs': ['Single-player', 'Steam Achievements'], 'price': 0.99, 'early_access': False, 'id': '671270', 'developer': 'Problematicar'}\n"
     ]
    }
   ],
   "source": [
    "for game in games:\n",
    "    if 'id' in game.keys():\n",
    "        if game['id'] == '671270':\n",
    "            print(game)"
   ]
  },
  {
   "cell_type": "code",
   "execution_count": null,
   "metadata": {},
   "outputs": [],
   "source": []
  }
 ],
 "metadata": {
  "kernelspec": {
   "display_name": "Python 3",
   "language": "python",
   "name": "python3"
  },
  "language_info": {
   "codemirror_mode": {
    "name": "ipython",
    "version": 3
   },
   "file_extension": ".py",
   "mimetype": "text/x-python",
   "name": "python",
   "nbconvert_exporter": "python",
   "pygments_lexer": "ipython3",
   "version": "3.7.7"
  }
 },
 "nbformat": 4,
 "nbformat_minor": 4
}
