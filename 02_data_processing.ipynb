{
 "cells": [
  {
   "cell_type": "code",
   "execution_count": 1,
   "metadata": {},
   "outputs": [],
   "source": [
    "import json\n",
    "from collections import defaultdict"
   ]
  },
  {
   "cell_type": "code",
   "execution_count": 2,
   "metadata": {},
   "outputs": [],
   "source": [
    "filename = 'data/steam_reviews.json'\n",
    "with open(filename, 'rb') as file:\n",
    "    reviews = json.load(file)"
   ]
  },
  {
   "cell_type": "code",
   "execution_count": 3,
   "metadata": {},
   "outputs": [],
   "source": [
    "valid_reviews = []\n",
    "reqd_keys = {\n",
    "    'early_access',\n",
    "    'product_id',\n",
    "    'text',\n",
    "    'user_id',\n",
    "    'username'\n",
    "}\n",
    "while len(reviews):\n",
    "    review = reviews.pop()\n",
    "    is_key_avail = []\n",
    "    for key in reqd_keys:\n",
    "        is_key_avail.append(key in review.keys())\n",
    "    if all(is_key_avail):\n",
    "        valid_reviews.append(review)\n",
    "        \n",
    "        if 'compensation' in review.keys():\n",
    "            valid_reviews.pop()\n",
    "        elif review['early_access']:\n",
    "            valid_reviews.pop()\n",
    "\n",
    "del reviews"
   ]
  },
  {
   "cell_type": "code",
   "execution_count": 4,
   "metadata": {},
   "outputs": [],
   "source": [
    "drop_keys = {\n",
    "    'compensation',\n",
    "    'early_access',\n",
    "    'date',\n",
    "    'found_funny',\n",
    "    'hours',\n",
    "    'page',\n",
    "    'page_order',\n",
    "    'products',\n",
    "    'user_id',\n",
    "    'username'\n",
    "}\n",
    "for review in valid_reviews:\n",
    "    for key in drop_keys:\n",
    "        if key in review.keys():\n",
    "            del review[key]"
   ]
  },
  {
   "cell_type": "code",
   "execution_count": 11,
   "metadata": {},
   "outputs": [],
   "source": [
    "# Only keep reviews for products that have 15+ valid reviews.\n",
    "counter = defaultdict(int)\n",
    "for review in valid_reviews:\n",
    "    counter[review['product_id']] += 1\n",
    "valid_product_ids = {product for product, count in counter.items() if count >= 15}\n",
    "valid_reviews = [review for review in valid_reviews if review['product_id'] in valid_product_ids]"
   ]
  },
  {
   "cell_type": "code",
   "execution_count": 13,
   "metadata": {},
   "outputs": [],
   "source": [
    "filename = 'data/steam_games.json'\n",
    "with open(filename, 'rb') as file:\n",
    "    games = json.load(file)"
   ]
  },
  {
   "cell_type": "code",
   "execution_count": 14,
   "metadata": {},
   "outputs": [],
   "source": [
    "reqd_keys = {\n",
    "    'release_date', \n",
    "    'publisher', \n",
    "    'specs', \n",
    "    'url', \n",
    "    'early_access', \n",
    "    'developer', \n",
    "    'app_name', \n",
    "    'genres', \n",
    "    'title', \n",
    "    'sentiment', \n",
    "    'reviews_url', \n",
    "    'id', \n",
    "    'tags'}\n",
    "valid_games = []\n",
    "game_ids = set()\n",
    "for game in games:\n",
    "    is_key_avail = []\n",
    "    for key in reqd_keys:\n",
    "        is_key_avail.append(key in game.keys())\n",
    "    \n",
    "    if all(is_key_avail):\n",
    "        if 'Positive' in game['sentiment']:\n",
    "            if not game['early_access']:\n",
    "                if game['id'] not in game_ids:\n",
    "                    game_ids.add(game['id'])\n",
    "                    valid_games.append(game)\n",
    "                    \n",
    "del games"
   ]
  },
  {
   "cell_type": "code",
   "execution_count": 15,
   "metadata": {},
   "outputs": [],
   "source": [
    "drop_keys = {\n",
    "    'price',\n",
    "    'discount_price', \n",
    "    'metascore', \n",
    "    'early_access',\n",
    "}\n",
    "for game in valid_games:\n",
    "    for key in drop_keys:\n",
    "        if key in game.keys():\n",
    "            del game[key]"
   ]
  },
  {
   "cell_type": "code",
   "execution_count": 16,
   "metadata": {},
   "outputs": [],
   "source": [
    "# Ensure the games and reviews datasets cover the same set of products.\n",
    "game_ids = {game['id'] for game in valid_games}\n",
    "reviewed_game_ids = {review['product_id'] for review in valid_reviews}\n",
    "valid_game_ids = {game for game in game_ids if game in reviewed_game_ids}\n",
    "\n",
    "valid_games = [game for game in valid_games if game['id'] in valid_game_ids]\n",
    "valid_reviews = [review for review in valid_reviews if review['product_id'] in valid_game_ids]"
   ]
  },
  {
   "cell_type": "code",
   "execution_count": 17,
   "metadata": {},
   "outputs": [],
   "source": [
    "filename = 'data/processed_reviews.json'\n",
    "with open(filename, 'w') as file:\n",
    "    json.dump(valid_reviews, file)"
   ]
  },
  {
   "cell_type": "code",
   "execution_count": 18,
   "metadata": {},
   "outputs": [],
   "source": [
    "filename = 'data/processed_games.json'\n",
    "with open(filename, 'w') as file:\n",
    "    json.dump(valid_games, file)"
   ]
  },
  {
   "cell_type": "code",
   "execution_count": null,
   "metadata": {},
   "outputs": [],
   "source": []
  },
  {
   "cell_type": "code",
   "execution_count": null,
   "metadata": {},
   "outputs": [],
   "source": []
  }
 ],
 "metadata": {
  "kernelspec": {
   "display_name": "Python 3",
   "language": "python",
   "name": "python3"
  },
  "language_info": {
   "codemirror_mode": {
    "name": "ipython",
    "version": 3
   },
   "file_extension": ".py",
   "mimetype": "text/x-python",
   "name": "python",
   "nbconvert_exporter": "python",
   "pygments_lexer": "ipython3",
   "version": "3.7.7"
  }
 },
 "nbformat": 4,
 "nbformat_minor": 4
}
