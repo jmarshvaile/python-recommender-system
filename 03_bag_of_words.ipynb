{
 "cells": [
  {
   "cell_type": "code",
   "execution_count": 55,
   "metadata": {},
   "outputs": [],
   "source": [
    "import json\n",
    "import nltk\n",
    "import re\n",
    "from nltk.stem import WordNetLemmatizer\n",
    "from nltk.corpus import stopwords\n",
    "from collections import defaultdict\n",
    "from spellchecker import SpellChecker\n",
    "from tqdm.notebook import tqdm\n",
    "\n",
    "nltk.download(['punkt', 'stopwords'], quiet=True);"
   ]
  },
  {
   "cell_type": "code",
   "execution_count": 47,
   "metadata": {},
   "outputs": [],
   "source": [
    "filename = 'data/processed_reviews.json'\n",
    "with open(filename, 'rb') as file:\n",
    "    reviews = json.load(file)"
   ]
  },
  {
   "cell_type": "code",
   "execution_count": null,
   "metadata": {},
   "outputs": [],
   "source": [
    "initial_bag_of_words = defaultdict(set)\n",
    "stop_words = stopwords.words('english')\n",
    "lemmatizer = WordNetLemmatizer()\n",
    "for review in tqdm(reviews):\n",
    "    text = review['text'].lower()\n",
    "    text = re.sub(r'(.)\\1{2,}', r'\\1\\1', text)\n",
    "    text = nltk.word_tokenize(text)\n",
    "    for word in text:\n",
    "        if word.isalnum() and word not in stop_words:\n",
    "            word = lemmatizer.lemmatize(word)\n",
    "            initial_bag_of_words[review['product_id']].add(word)\n",
    "\n",
    "counter = defaultdict(int)\n",
    "for words in initial_bag_of_words.values():\n",
    "    for word in words:\n",
    "        counter[word] += 1\n",
    "\n",
    "keep_words = set()\n",
    "for word, count in counter.items():\n",
    "    n = len(initial_bag_of_words)\n",
    "    if (count < n*.9) or (count > n*.01):\n",
    "        keep_words.add(word)\n",
    "\n",
    "reduced_bag_of_words = defaultdict(set)\n",
    "for product, words in tqdm(initial_bag_of_words.items()):\n",
    "    for word in words:\n",
    "        if word in keep_words:\n",
    "            reduced_bag_of_words[product].add(word)\n",
    "\n",
    "corrections = {}\n",
    "spellcheck = SpellChecker()\n",
    "for word in tqdm(spellcheck.unknown(keep_words)):\n",
    "    corrections[word] = spellcheck.correction(word)\n",
    "\n",
    "bag_of_words = defaultdict(set)\n",
    "for product, words in tqdm(reduced_bag_of_words.items()):\n",
    "    for word in words:\n",
    "        if word in corrections:\n",
    "            bag_of_words[product].add(corrections[word])\n",
    "        else:\n",
    "            bag_of_words[product].add(word)\n",
    "\n",
    "bag_of_words = {product: list(bag_of_words[product]) for product in bag_of_words}"
   ]
  },
  {
   "cell_type": "code",
   "execution_count": 61,
   "metadata": {},
   "outputs": [
    {
     "data": {
      "application/vnd.jupyter.widget-view+json": {
       "model_id": "302678c5cdee4de694c8f0f43643be19",
       "version_major": 2,
       "version_minor": 0
      },
      "text/plain": [
       "HBox(children=(FloatProgress(value=0.0, max=2188350.0), HTML(value='')))"
      ]
     },
     "metadata": {},
     "output_type": "display_data"
    },
    {
     "name": "stdout",
     "output_type": "stream",
     "text": [
      "\n",
      "\n"
     ]
    }
   ],
   "source": [
    "filename = 'data/bag_of_words.json'\n",
    "with open(filename, 'w') as file:\n",
    "    json.dump(bag_of_words, file)"
   ]
  },
  {
   "cell_type": "code",
   "execution_count": null,
   "metadata": {},
   "outputs": [],
   "source": [
    "corpus = set()\n",
    "for words in bag_of_words.values():\n",
    "    for word in words:\n",
    "        corpus.add(word)\n",
    "corpus = list(corpus)"
   ]
  },
  {
   "cell_type": "code",
   "execution_count": 107,
   "metadata": {},
   "outputs": [],
   "source": [
    "filename = 'data/corpus.json'\n",
    "with open(filename, 'w') as file:\n",
    "    json.dump(corpus, file)"
   ]
  }
 ],
 "metadata": {
  "kernelspec": {
   "display_name": "Python 3",
   "language": "python",
   "name": "python3"
  },
  "language_info": {
   "codemirror_mode": {
    "name": "ipython",
    "version": 3
   },
   "file_extension": ".py",
   "mimetype": "text/x-python",
   "name": "python",
   "nbconvert_exporter": "python",
   "pygments_lexer": "ipython3",
   "version": "3.7.7"
  }
 },
 "nbformat": 4,
 "nbformat_minor": 4
}
