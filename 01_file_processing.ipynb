{
 "cells": [
  {
   "cell_type": "code",
   "execution_count": 1,
   "metadata": {},
   "outputs": [],
   "source": [
    "import os\n",
    "import gzip\n",
    "import requests\n",
    "import ast\n",
    "import tqdm\n",
    "import json"
   ]
  },
  {
   "cell_type": "code",
   "execution_count": 2,
   "metadata": {},
   "outputs": [],
   "source": [
    "def optional_make_dir(directory):\n",
    "    if not os.path.isdir(directory):\n",
    "        os.mkdir(directory)\n",
    "    \n",
    "    return None\n",
    "\n",
    "def download_json_gzip(url, save_directory=''):\n",
    "#     url = 'http://cseweb.ucsd.edu/~wckang/steam_reviews.json.gz'\n",
    "#     url = 'http://cseweb.ucsd.edu/~wckang/steam_games.json.gz'\n",
    "    filename = url.split(\"/\")[-1]\n",
    "    filename = os.path.join(save_directory, filename)\n",
    "    if not os.path.isfile(filename):\n",
    "        with open(filename, \"wb\") as f:\n",
    "            r = requests.get(url)\n",
    "            f.write(r.content)\n",
    "    \n",
    "    return None\n",
    "\n",
    "def gzip_to_json(gzip_filename, directory):\n",
    "    gzip_filename = os.path.join(directory, gzip_filename)\n",
    "    json_filename = gzip_filename.replace('.gz', '')\n",
    "    \n",
    "    if not os.path.isfile(json_filename):\n",
    "        print('stage 1: reading gzip (est: 3min)')\n",
    "        with gzip.open(gzip_filename, 'rb') as file:\n",
    "            data = file.read()\n",
    "\n",
    "        print('stage 2: decoding (est: 1min)')\n",
    "        data = data.decode('utf-8')\n",
    "        print('stage 3: cleaning (est: 1min)')\n",
    "        if data.endswith('\\n'):\n",
    "            data = data[:-1]\n",
    "        print('stage 4: segmenting (est: 1min)')\n",
    "        data = data.split('\\n')\n",
    "        print('stage 5: interpreting (est: 25min)')\n",
    "        data = [ast.literal_eval(dict_string) for dict_string in tqdm.tqdm(data)]\n",
    "\n",
    "        print('stage 6: writing to json (est: 10min)')\n",
    "        with open(json_filename, 'w') as file:\n",
    "            json.dump(data, file)\n",
    "        print('complete')\n",
    "    return None"
   ]
  },
  {
   "cell_type": "code",
   "execution_count": 3,
   "metadata": {},
   "outputs": [],
   "source": [
    "directory = 'data'\n",
    "\n",
    "optional_make_dir(directory)\n",
    "\n",
    "urls = ['http://cseweb.ucsd.edu/~wckang/steam_reviews.json.gz', \n",
    "        'http://cseweb.ucsd.edu/~wckang/steam_games.json.gz']\n",
    "for url in urls:\n",
    "    download_json_gzip(url, directory)\n",
    "\n",
    "for file in os.listdir(directory):\n",
    "    if file.endswith('.gz'):\n",
    "        gzip_to_json(file, directory)"
   ]
  },
  {
   "cell_type": "code",
   "execution_count": null,
   "metadata": {},
   "outputs": [],
   "source": []
  }
 ],
 "metadata": {
  "kernelspec": {
   "display_name": "Python 3",
   "language": "python",
   "name": "python3"
  },
  "language_info": {
   "codemirror_mode": {
    "name": "ipython",
    "version": 3
   },
   "file_extension": ".py",
   "mimetype": "text/x-python",
   "name": "python",
   "nbconvert_exporter": "python",
   "pygments_lexer": "ipython3",
   "version": "3.7.7"
  }
 },
 "nbformat": 4,
 "nbformat_minor": 4
}
