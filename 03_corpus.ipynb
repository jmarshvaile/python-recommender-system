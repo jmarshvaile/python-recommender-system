{
 "cells": [
  {
   "cell_type": "code",
   "execution_count": 1,
   "metadata": {},
   "outputs": [],
   "source": [
    "import json\n",
    "import nltk\n",
    "import re\n",
    "from nltk.stem import WordNetLemmatizer\n",
    "from nltk.corpus import stopwords\n",
    "from collections import defaultdict\n",
    "from spellchecker import SpellChecker\n",
    "from tqdm.notebook import tqdm\n",
    "\n",
    "nltk.download(['punkt', 'stopwords'], quiet=True);"
   ]
  },
  {
   "cell_type": "code",
   "execution_count": null,
   "metadata": {},
   "outputs": [],
   "source": [
    "filename = 'data/processed_reviews.json'\n",
    "with open(filename, 'rb') as file:\n",
    "    reviews = json.load(file)\n",
    "\n",
    "initial_bag_of_words = defaultdict(set)\n",
    "stop_words = stopwords.words('english')\n",
    "lemmatizer = WordNetLemmatizer()\n",
    "for review in tqdm(reviews):\n",
    "    text = review['text'].lower()\n",
    "    text = re.sub(r'(.)\\1{2,}', r'\\1\\1', text)\n",
    "    text = nltk.word_tokenize(text)\n",
    "    for word in text:\n",
    "        if word.isalnum() and word not in stop_words:\n",
    "            word = lemmatizer.lemmatize(word)\n",
    "            initial_bag_of_words[review['product_id']].add(word)\n",
    "\n",
    "counter = defaultdict(int)\n",
    "for words in initial_bag_of_words.values():\n",
    "    for word in words:\n",
    "        counter[word] += 1\n",
    "\n",
    "keep_words = set()\n",
    "for word, count in counter.items():\n",
    "    n = len(initial_bag_of_words)\n",
    "    if (count < n*.9) or (count > n*.01):\n",
    "        keep_words.add(word)\n",
    "\n",
    "reduced_bag_of_words = defaultdict(set)\n",
    "for product, words in tqdm(initial_bag_of_words.items()):\n",
    "    for word in words:\n",
    "        if word in keep_words:\n",
    "            reduced_bag_of_words[product].add(word)\n",
    "\n",
    "corrections = {}\n",
    "spellcheck = SpellChecker()\n",
    "for word in tqdm(spellcheck.unknown(keep_words)):\n",
    "    corrections[word] = spellcheck.correction(word)\n",
    "\n",
    "bag_of_words = defaultdict(set)\n",
    "for product, words in tqdm(reduced_bag_of_words.items()):\n",
    "    for word in words:\n",
    "        if word in corrections:\n",
    "            bag_of_words[product].add(corrections[word])\n",
    "        else:\n",
    "            bag_of_words[product].add(word)\n",
    "\n",
    "bag_of_words = {product: list(bag_of_words[product]) for product in bag_of_words}\n",
    "\n",
    "filename = 'data/bag_of_words.json'\n",
    "with open(filename, 'w') as file:\n",
    "    json.dump(bag_of_words, file)"
   ]
  },
  {
   "cell_type": "code",
   "execution_count": null,
   "metadata": {},
   "outputs": [],
   "source": [
    "corpus = set()\n",
    "for words in bag_of_words.values():\n",
    "    for word in words:\n",
    "        corpus.add(word)\n",
    "corpus = list(corpus)\n",
    "\n",
    "filename = 'data/corpus.json'\n",
    "with open(filename, 'w') as file:\n",
    "    json.dump(corpus, file)"
   ]
  },
  {
   "cell_type": "code",
   "execution_count": 2,
   "metadata": {},
   "outputs": [],
   "source": [
    "filename = 'data/processed_games.json'\n",
    "with open(filename, 'r') as file:\n",
    "    games = json.load(file)\n",
    "\n",
    "bag_of_tags = defaultdict(set)\n",
    "search_keys = ['publisher', 'genres', 'tags', 'specs', 'developer']\n",
    "for game in games:\n",
    "    game_id = game['id']\n",
    "    for key in search_keys:\n",
    "        metadata = game[key]\n",
    "        if isinstance(metadata, str):\n",
    "            metadata = metadata.lower()\n",
    "            metadata = re.sub(r'\\W', '', metadata)\n",
    "            bag_of_tags[game_id].add(metadata)\n",
    "        else:\n",
    "            metadata = [tag.lower() for tag in metadata]\n",
    "            metadata = [re.sub(r'\\W', '', tag) for tag in metadata]\n",
    "            bag_of_tags[game_id] = bag_of_tags[game_id].union(metadata)\n",
    "\n",
    "counter = defaultdict(int)\n",
    "for words in bag_of_tags.values():\n",
    "    for word in words:\n",
    "        counter[word] += 1\n",
    "\n",
    "keep_words = set()\n",
    "for word, count in counter.items():\n",
    "    if count > 1:\n",
    "        keep_words.add(word)\n",
    "        \n",
    "temp = defaultdict(set)\n",
    "for product, words in bag_of_tags.items():\n",
    "    for word in words:\n",
    "        if word in keep_words:\n",
    "            temp[product].add(word)\n",
    "bag_of_tags = {product: list(temp[product]) for product in temp}\n",
    "del temp\n",
    "\n",
    "filename = 'data/bag_of_tags.json'\n",
    "with open(filename, 'w') as file:\n",
    "    json.dump(bag_of_tags, file)"
   ]
  },
  {
   "cell_type": "code",
   "execution_count": 5,
   "metadata": {},
   "outputs": [],
   "source": [
    "tag_corpus = set()\n",
    "for words in bag_of_tags.values():\n",
    "    for word in words:\n",
    "        tag_corpus.add(word)\n",
    "tag_corpus = list(tag_corpus)\n",
    "\n",
    "filename = 'data/tag_corpus.json'\n",
    "with open(filename, 'w') as file:\n",
    "    json.dump(tag_corpus, file)"
   ]
  },
  {
   "cell_type": "code",
   "execution_count": 5,
   "metadata": {},
   "outputs": [],
   "source": [
    "filename = 'data/steam_games.json'\n",
    "with open(filename, 'r') as file:\n",
    "    games = json.load(file)"
   ]
  },
  {
   "cell_type": "code",
   "execution_count": 6,
   "metadata": {},
   "outputs": [
    {
     "data": {
      "text/plain": [
       "32135"
      ]
     },
     "execution_count": 6,
     "metadata": {},
     "output_type": "execute_result"
    }
   ],
   "source": [
    "len(games)"
   ]
  },
  {
   "cell_type": "code",
   "execution_count": null,
   "metadata": {},
   "outputs": [],
   "source": []
  }
 ],
 "metadata": {
  "kernelspec": {
   "display_name": "Python 3",
   "language": "python",
   "name": "python3"
  },
  "language_info": {
   "codemirror_mode": {
    "name": "ipython",
    "version": 3
   },
   "file_extension": ".py",
   "mimetype": "text/x-python",
   "name": "python",
   "nbconvert_exporter": "python",
   "pygments_lexer": "ipython3",
   "version": "3.7.7"
  }
 },
 "nbformat": 4,
 "nbformat_minor": 4
}
