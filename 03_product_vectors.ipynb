{
 "cells": [
  {
   "cell_type": "code",
   "execution_count": 1,
   "metadata": {},
   "outputs": [],
   "source": [
    "import json\n",
    "import nltk\n",
    "import re\n",
    "import ipywidgets as widgets\n",
    "import numpy as np\n",
    "from sklearn.metrics.pairwise import cosine_similarity\n",
    "\n",
    "nltk.download(['punkt', 'stopwords'], quiet=True);"
   ]
  },
  {
   "cell_type": "code",
   "execution_count": 2,
   "metadata": {},
   "outputs": [],
   "source": [
    "def tokenize(doc):\n",
    "    tokens = []\n",
    "    sentences = nltk.sent_tokenize(doc)\n",
    "    for sentence in sentences:\n",
    "        tokens.append(nltk.word_tokenize(sentence))\n",
    "    \n",
    "    return tokens"
   ]
  },
  {
   "cell_type": "code",
   "execution_count": 3,
   "metadata": {},
   "outputs": [],
   "source": [
    "filename = 'data/processed_reviews.json'\n",
    "with open(filename, 'rb') as file:\n",
    "    reviews = json.load(file)\n",
    "\n",
    "filename = 'data/processed_games.json'\n",
    "with open(filename, 'rb') as file:\n",
    "    games = json.load(file)"
   ]
  },
  {
   "cell_type": "code",
   "execution_count": null,
   "metadata": {},
   "outputs": [],
   "source": [
    "corpus = set()\n",
    "stemmer = nltk.stem.snowball.EnglishStemmer()\n",
    "stopwords = nltk.corpus.stopwords.words('english')\n",
    "products = [g['id'] for g in games]\n",
    "for product in products:\n",
    "    for review in reviews:\n",
    "        if review['product_id'] == product:\n",
    "            for sentence in tokenize(review['text']):\n",
    "                for word in sentence:\n",
    "                    word = word.lower()\n",
    "                    if word not in stopwords and word.isalnum():\n",
    "                        word = stemmer.stem(word)\n",
    "                        corpus.add(word)"
   ]
  },
  {
   "cell_type": "code",
   "execution_count": null,
   "metadata": {},
   "outputs": [],
   "source": [
    "X = []\n",
    "stemmer = nltk.stem.snowball.EnglishStemmer()\n",
    "stopwords = nltk.corpus.stopwords.words('english')\n",
    "products = [g['id'] for g in games]\n",
    "for product in products:\n",
    "    bag_of_words = set()\n",
    "    for review in reviews:\n",
    "        if review['product_id'] == product:\n",
    "            for sentence in tokenize(review['text']):\n",
    "                for word in sentence:\n",
    "                    word = word.lower()\n",
    "                    if word not in stopwords and word.isalnum():\n",
    "                        word = stemmer.stem(word)\n",
    "                        bag_of_words.add(word)\n",
    "                        \n",
    "    X.append([int(word in bag_of_words) for word in corpus])"
   ]
  },
  {
   "cell_type": "code",
   "execution_count": null,
   "metadata": {},
   "outputs": [],
   "source": [
    "Y = cosine_similarity(X)\n",
    "\n",
    "# Creating a mask so argmax does not cause product to return itself.\n",
    "n = len(Y)\n",
    "Y_mask = [list([False] * n) for y in Y]\n",
    "for i in range(n):\n",
    "    Y_mask[i][i] = True\n",
    "\n",
    "Y = np.ma.MaskedArray(Y, Y_mask)"
   ]
  },
  {
   "cell_type": "code",
   "execution_count": null,
   "metadata": {},
   "outputs": [],
   "source": [
    "def f(i):\n",
    "    \n",
    "    return  [np.max(Y[i]), games[np.argmax(Y[i])]]\n",
    "\n",
    "dropdown = widgets.Dropdown(\n",
    "    options=[(g['app_name'], games.index(g)) for g in games],\n",
    "    description='Index:',\n",
    ")\n",
    "widgets.interact(f, i=dropdown);"
   ]
  },
  {
   "cell_type": "code",
   "execution_count": null,
   "metadata": {},
   "outputs": [],
   "source": []
  }
 ],
 "metadata": {
  "kernelspec": {
   "display_name": "Python 3",
   "language": "python",
   "name": "python3"
  },
  "language_info": {
   "codemirror_mode": {
    "name": "ipython",
    "version": 3
   },
   "file_extension": ".py",
   "mimetype": "text/x-python",
   "name": "python",
   "nbconvert_exporter": "python",
   "pygments_lexer": "ipython3",
   "version": "3.7.7"
  }
 },
 "nbformat": 4,
 "nbformat_minor": 4
}
