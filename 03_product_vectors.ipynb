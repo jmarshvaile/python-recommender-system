{
 "cells": [
  {
   "cell_type": "code",
   "execution_count": 135,
   "metadata": {},
   "outputs": [],
   "source": [
    "import json\n",
    "import nltk\n",
    "import re\n",
    "import numpy as np\n",
    "from sklearn.metrics.pairwise import cosine_similarity\n",
    "from matplotlib import pyplot as plt\n",
    "\n",
    "nltk.download(['punkt', 'stopwords'], quiet=True);"
   ]
  },
  {
   "cell_type": "code",
   "execution_count": 89,
   "metadata": {},
   "outputs": [],
   "source": [
    "def tokenize(doc):\n",
    "    tokens = []\n",
    "    sentences = nltk.sent_tokenize(doc)\n",
    "    for sentence in sentences:\n",
    "        tokens.append(nltk.word_tokenize(sentence))\n",
    "    \n",
    "    return tokens"
   ]
  },
  {
   "cell_type": "code",
   "execution_count": 2,
   "metadata": {},
   "outputs": [],
   "source": [
    "filename = 'data/processed_reviews.json'\n",
    "with open(filename, 'rb') as file:\n",
    "    reviews = json.load(file)\n",
    "\n",
    "filename = 'data/processed_games.json'\n",
    "with open(filename, 'rb') as file:\n",
    "    games = json.load(file)"
   ]
  },
  {
   "cell_type": "code",
   "execution_count": 129,
   "metadata": {},
   "outputs": [],
   "source": [
    "corpus = set()\n",
    "stemmer = nltk.stem.snowball.EnglishStemmer()\n",
    "stopwords = nltk.corpus.stopwords.words('english')\n",
    "products = list({g['id'] for g in games})[:10]\n",
    "for product in products:\n",
    "    for review in reviews:\n",
    "        if review['product_id'] == product:\n",
    "            for sentence in tokenize(review['text']):\n",
    "                for word in sentence:\n",
    "                    word = word.lower()\n",
    "                    if word not in stopwords and word.isalnum():\n",
    "                        word = stemmer.stem(word)\n",
    "                        corpus.add(word)"
   ]
  },
  {
   "cell_type": "code",
   "execution_count": 131,
   "metadata": {},
   "outputs": [],
   "source": [
    "product_vectors = []\n",
    "stemmer = nltk.stem.snowball.EnglishStemmer()\n",
    "stopwords = nltk.corpus.stopwords.words('english')\n",
    "products = [list({g['id'] for g in games})[i] for i in [5, 7]]\n",
    "for product in products:\n",
    "    bag_of_words = []\n",
    "    for review in reviews:\n",
    "        if review['product_id'] == product:\n",
    "            for sentence in tokenize(review['text']):\n",
    "                for word in sentence:\n",
    "                    word = word.lower()\n",
    "                    if word not in stopwords and word.isalnum():\n",
    "                        word = stemmer.stem(word)\n",
    "                        bag_of_words.append(word)\n",
    "                        \n",
    "    product_vectors.append([int(word in bag_of_words) for word in corpus])"
   ]
  },
  {
   "cell_type": "code",
   "execution_count": 132,
   "metadata": {},
   "outputs": [
    {
     "data": {
      "text/plain": [
       "2"
      ]
     },
     "execution_count": 132,
     "metadata": {},
     "output_type": "execute_result"
    }
   ],
   "source": [
    "len(product_vectors)"
   ]
  },
  {
   "cell_type": "code",
   "execution_count": 133,
   "metadata": {},
   "outputs": [
    {
     "data": {
      "text/plain": [
       "array([[1.        , 0.26461277],\n",
       "       [0.26461277, 1.        ]])"
      ]
     },
     "execution_count": 133,
     "metadata": {},
     "output_type": "execute_result"
    }
   ],
   "source": [
    "cosine_similarity(product_vectors)"
   ]
  },
  {
   "cell_type": "code",
   "execution_count": 134,
   "metadata": {},
   "outputs": [
    {
     "data": {
      "text/plain": [
       "[{'publisher': 'Big Blue Bubble',\n",
       "  'genres': ['Action', 'Indie'],\n",
       "  'app_name': 'Zombie Bloxx',\n",
       "  'sentiment': 'Positive',\n",
       "  'title': 'Zombie Bloxx',\n",
       "  'url': 'http://store.steampowered.com/app/713090/Zombie_Bloxx/',\n",
       "  'release_date': '2017-11-22',\n",
       "  'tags': ['Action', 'Indie', 'Touch-Friendly', 'Zombies', 'Voxel'],\n",
       "  'reviews_url': 'http://steamcommunity.com/app/713090/reviews/?browsefilter=mostrecent&p=1',\n",
       "  'specs': ['Single-player',\n",
       "   'Steam Achievements',\n",
       "   'Partial Controller Support'],\n",
       "  'price': 4.99,\n",
       "  'early_access': False,\n",
       "  'id': '713090',\n",
       "  'developer': 'Roosh Interactive'},\n",
       " {'publisher': 'Subatomic Studios LLC',\n",
       "  'genres': ['Strategy', 'Indie', 'Casual'],\n",
       "  'app_name': 'Fieldrunners',\n",
       "  'sentiment': 'Mostly Positive',\n",
       "  'title': 'Fieldrunners',\n",
       "  'url': 'http://store.steampowered.com/app/209690/Fieldrunners/',\n",
       "  'release_date': '2012-05-24',\n",
       "  'tags': ['Tower Defense', 'Strategy', 'Indie', 'Casual', 'Singleplayer'],\n",
       "  'reviews_url': 'http://steamcommunity.com/app/209690/reviews/?browsefilter=mostrecent&p=1',\n",
       "  'specs': ['Single-player'],\n",
       "  'price': 4.99,\n",
       "  'early_access': False,\n",
       "  'id': '209690',\n",
       "  'developer': 'Subatomic Studios LLC'}]"
      ]
     },
     "execution_count": 134,
     "metadata": {},
     "output_type": "execute_result"
    }
   ],
   "source": [
    "[g for g in games if g['id'] in products]"
   ]
  },
  {
   "cell_type": "code",
   "execution_count": null,
   "metadata": {},
   "outputs": [],
   "source": []
  }
 ],
 "metadata": {
  "kernelspec": {
   "display_name": "Python 3",
   "language": "python",
   "name": "python3"
  },
  "language_info": {
   "codemirror_mode": {
    "name": "ipython",
    "version": 3
   },
   "file_extension": ".py",
   "mimetype": "text/x-python",
   "name": "python",
   "nbconvert_exporter": "python",
   "pygments_lexer": "ipython3",
   "version": "3.7.7"
  }
 },
 "nbformat": 4,
 "nbformat_minor": 4
}
