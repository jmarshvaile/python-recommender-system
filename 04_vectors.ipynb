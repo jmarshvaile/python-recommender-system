{
 "cells": [
  {
   "cell_type": "code",
   "execution_count": 13,
   "metadata": {},
   "outputs": [],
   "source": [
    "import json\n",
    "from tqdm.notebook import tqdm\n",
    "from collections import defaultdict"
   ]
  },
  {
   "cell_type": "code",
   "execution_count": 2,
   "metadata": {},
   "outputs": [],
   "source": [
    "filename = 'data/corpus.json'\n",
    "with open(filename, 'r') as file:\n",
    "    corpus = json.load(file)\n",
    "    \n",
    "filename = 'data/bag_of_words.json'\n",
    "with open(filename, 'r') as file:\n",
    "    bag_of_words = json.load(file)\n",
    "\n",
    "word_vectors = defaultdict(list)\n",
    "for word in tqdm(corpus):\n",
    "    for product, words in bag_of_words.items():\n",
    "        word_vectors[product].append(int(word in words))\n",
    "\n",
    "filename = 'data/word_vectors.json'\n",
    "with open(filename, 'w') as file:\n",
    "    json.dump(word_vectors, file)"
   ]
  },
  {
   "cell_type": "code",
   "execution_count": 19,
   "metadata": {},
   "outputs": [
    {
     "data": {
      "application/vnd.jupyter.widget-view+json": {
       "model_id": "4c5830ed3cda46efa5ca5bbfd454b356",
       "version_major": 2,
       "version_minor": 0
      },
      "text/plain": [
       "HBox(children=(FloatProgress(value=0.0, max=1222.0), HTML(value='')))"
      ]
     },
     "metadata": {},
     "output_type": "display_data"
    },
    {
     "name": "stdout",
     "output_type": "stream",
     "text": [
      "\n"
     ]
    }
   ],
   "source": [
    "filename = 'data/bag_of_tags.json'\n",
    "with open(filename, 'r') as file:\n",
    "    bag_of_tags = json.load(file)\n",
    "\n",
    "filename = 'data/tag_corpus.json'\n",
    "with open(filename, 'r') as file:\n",
    "    tag_corpus = json.load(file)\n",
    "\n",
    "tag_vectors = defaultdict(list)\n",
    "for word in tqdm(tag_corpus):\n",
    "    for product, words in bag_of_tags.items():\n",
    "        tag_vectors[product].append(int(word in words))\n",
    "\n",
    "filename = 'data/tag_vectors.json'\n",
    "with open(filename, 'w') as file:\n",
    "    json.dump(tag_vectors, file)"
   ]
  },
  {
   "cell_type": "code",
   "execution_count": null,
   "metadata": {},
   "outputs": [],
   "source": []
  }
 ],
 "metadata": {
  "kernelspec": {
   "display_name": "Python 3",
   "language": "python",
   "name": "python3"
  },
  "language_info": {
   "codemirror_mode": {
    "name": "ipython",
    "version": 3
   },
   "file_extension": ".py",
   "mimetype": "text/x-python",
   "name": "python",
   "nbconvert_exporter": "python",
   "pygments_lexer": "ipython3",
   "version": "3.7.7"
  }
 },
 "nbformat": 4,
 "nbformat_minor": 4
}
