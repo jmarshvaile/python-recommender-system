{
 "cells": [
  {
   "cell_type": "code",
   "execution_count": null,
   "metadata": {},
   "outputs": [],
   "source": [
    "# import ipywidgets as widgets\n",
    "# import numpy as np\n",
    "# from sklearn.metrics.pairwise import cosine_similarity"
   ]
  },
  {
   "cell_type": "code",
   "execution_count": null,
   "metadata": {},
   "outputs": [],
   "source": [
    "corpus = set()\n",
    "\n",
    "X = [int(word in bag_of_words) for word in corpus]\n",
    "\n",
    "Y = cosine_similarity(X)\n",
    "\n",
    "# Creating a mask so argmax does not cause product to return itself.\n",
    "n = len(Y)\n",
    "Y_mask = [list([False] * n) for y in Y]\n",
    "for i in range(n):\n",
    "    Y_mask[i][i] = True\n",
    "\n",
    "Y = np.ma.MaskedArray(Y, Y_mask)\n",
    "\n",
    "def f(i):\n",
    "    \n",
    "    return  [np.max(Y[i]), games[np.argmax(Y[i])]]\n",
    "\n",
    "dropdown = widgets.Dropdown(\n",
    "    options=[(g['app_name'], games.index(g)) for g in games],\n",
    "    description='Index:',\n",
    ")\n",
    "widgets.interact(f, i=dropdown);"
   ]
  }
 ],
 "metadata": {
  "kernelspec": {
   "display_name": "Python 3",
   "language": "python",
   "name": "python3"
  },
  "language_info": {
   "codemirror_mode": {
    "name": "ipython",
    "version": 3
   },
   "file_extension": ".py",
   "mimetype": "text/x-python",
   "name": "python",
   "nbconvert_exporter": "python",
   "pygments_lexer": "ipython3",
   "version": "3.7.7"
  }
 },
 "nbformat": 4,
 "nbformat_minor": 4
}
