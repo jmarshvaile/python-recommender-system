{
 "cells": [
  {
   "cell_type": "code",
   "execution_count": 54,
   "metadata": {},
   "outputs": [],
   "source": [
    "import json\n",
    "import numpy as np\n",
    "import ipywidgets as widgets\n",
    "from ipywidgets import interact\n",
    "from sklearn.metrics.pairwise import cosine_similarity"
   ]
  },
  {
   "cell_type": "code",
   "execution_count": 81,
   "metadata": {},
   "outputs": [],
   "source": [
    "def get_similarity_matrix(vectors: dict):\n",
    "    vectors = list(zip(*vectors.items()))\n",
    "    \n",
    "    X = np.array(vectors[1])\n",
    "    Y = cosine_similarity(X)\n",
    "\n",
    "    # Creating a mask so argmax does not cause product to return itself.\n",
    "    n = len(Y)\n",
    "    Y_mask = [list([False] * n) for y in Y]\n",
    "    for i in range(n):\n",
    "        Y_mask[i][i] = True\n",
    "    Y = np.ma.MaskedArray(Y, Y_mask)\n",
    "    \n",
    "    return Y"
   ]
  },
  {
   "cell_type": "code",
   "execution_count": 84,
   "metadata": {},
   "outputs": [],
   "source": [
    "filename = 'data/word_vectors.json'\n",
    "with open(filename, 'r') as file:\n",
    "    word_vectors = json.load(file)\n",
    "    \n",
    "word_similarity = get_similarity_matrix(word_vectors)"
   ]
  },
  {
   "cell_type": "code",
   "execution_count": 83,
   "metadata": {},
   "outputs": [],
   "source": [
    "filename = 'data/tag_vectors.json'\n",
    "with open(filename, 'r') as file:\n",
    "    tag_vectors = json.load(file)\n",
    "    \n",
    "tag_similarity = get_similarity_matrix(tag_vectors)"
   ]
  },
  {
   "cell_type": "code",
   "execution_count": 100,
   "metadata": {},
   "outputs": [
    {
     "data": {
      "application/vnd.jupyter.widget-view+json": {
       "model_id": "c7abeb3d6e434c569c3c3ba9b716427b",
       "version_major": 2,
       "version_minor": 0
      },
      "text/plain": [
       "interactive(children=(Dropdown(description='x', options=(('282010', 0), ('70', 1), ('1640', 2), ('1630', 3), (…"
      ]
     },
     "metadata": {},
     "output_type": "display_data"
    }
   ],
   "source": [
    "index, options = zip(*enumerate(tag_vectors))\n",
    "@interact(x=zip(options, index))\n",
    "def f(x):\n",
    "    similarity_index = x\n",
    "    best_match_index = np.argmax(tag_similarity[x])\n",
    "    similarity_score = np.max(tag_similarity[x])\n",
    "    return (similarity_index, best_match_index, similarity_score)"
   ]
  },
  {
   "cell_type": "code",
   "execution_count": 103,
   "metadata": {},
   "outputs": [],
   "source": [
    "filename = 'data/processed_games.json'\n",
    "with open(filename, 'r') as file:\n",
    "    games = json.load(file)"
   ]
  },
  {
   "cell_type": "code",
   "execution_count": 119,
   "metadata": {},
   "outputs": [
    {
     "name": "stdout",
     "output_type": "stream",
     "text": [
      "{'publisher': 'Strategy First', 'genres': ['Strategy'], 'app_name': \"Disciples II: Gallean's Return\", 'sentiment': 'Mostly Positive', 'title': \"Disciples II: Gallean's Return\", 'url': 'http://store.steampowered.com/app/1640/Disciples_II_Galleans_Return/', 'release_date': '2006-07-06', 'tags': ['Turn-Based Strategy', 'Strategy', 'Classic', 'Atmospheric', 'Dark Fantasy', 'Turn-Based', 'Fantasy', 'Tactical', 'RPG', 'Gothic', 'Great Soundtrack', 'Multiplayer', 'Isometric'], 'reviews_url': 'http://steamcommunity.com/app/1640/reviews/?browsefilter=mostrecent&p=1', 'specs': ['Single-player', 'Multi-player', 'Co-op'], 'id': '1640', 'developer': 'Strategy First'}\n"
     ]
    }
   ],
   "source": [
    "lookup = list(tag_vectors.keys())[2]\n",
    "for game in games:\n",
    "    if game['id'] == lookup:\n",
    "        print(game)"
   ]
  },
  {
   "cell_type": "code",
   "execution_count": null,
   "metadata": {},
   "outputs": [],
   "source": []
  }
 ],
 "metadata": {
  "kernelspec": {
   "display_name": "Python 3",
   "language": "python",
   "name": "python3"
  },
  "language_info": {
   "codemirror_mode": {
    "name": "ipython",
    "version": 3
   },
   "file_extension": ".py",
   "mimetype": "text/x-python",
   "name": "python",
   "nbconvert_exporter": "python",
   "pygments_lexer": "ipython3",
   "version": "3.7.7"
  }
 },
 "nbformat": 4,
 "nbformat_minor": 4
}
